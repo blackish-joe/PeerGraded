{
 "cells": [
  {
   "cell_type": "markdown",
   "metadata": {},
   "source": [
    "<center>\n",
    "    <img src=\"https://cf-courses-data.s3.us.cloud-object-storage.appdomain.cloud/IBMDeveloperSkillsNetwork-DS0105EN-SkillsNetwork/labs/Module2/images/SN_web_lightmode.png\" width=\"300\" alt=\"cognitiveclass.ai logo\"  />\n",
    "</center>\n"
   ]
  },
  {
   "cell_type": "markdown",
   "metadata": {
    "tags": []
   },
   "source": [
    "<h1>My Jupyter Notebook on IBM Watson Studio</h1>"
   ]
  },
  {
   "cell_type": "markdown",
   "metadata": {},
   "source": [
    "<h2> Alao joseph</h2>\n",
    "\n",
    "Data science"
   ]
  },
  {
   "cell_type": "markdown",
   "metadata": {},
   "source": [
    "<em> i love data science for modeling of data and giving predictive analysis<em>\n",
    "<br>\n",
    "<i> data science is one of the top skill cause it helps to train machines</i>"
   ]
  },
  {
   "cell_type": "markdown",
   "metadata": {},
   "source": [
    "<h3> The following code test collecting user name and store to a variable</h3."
   ]
  },
  {
   "cell_type": "code",
   "execution_count": 2,
   "metadata": {},
   "outputs": [
    {
     "name": "stdin",
     "output_type": "stream",
     "text": [
      "Enter your name:  alao\n"
     ]
    },
    {
     "name": "stdout",
     "output_type": "stream",
     "text": [
      "alao\n"
     ]
    }
   ],
   "source": [
    "users = input(\"Enter your name: \")\n",
    "print(users)"
   ]
  },
  {
   "cell_type": "markdown",
   "metadata": {},
   "source": [
    "Bullet list\n",
    "<ul>\n",
    "<li>Data</li>\n",
    "<li>machine learning</li>\n",
    "<li>Spss modeler</li>\n",
    "</ul>\n",
    "\n",
    "Numbered list\n",
    "<ol>\n",
    "    <li>Data refinery</li>\n",
    "    <li>Data management</li>\n",
    "    <li>Data collection</li>\n",
    "</ol>\n",
    "\n",
    "Hyperlink\n",
    "<a href=\"www.ibm.com\">IBM site</a>"
   ]
  },
  {
   "cell_type": "code",
   "execution_count": null,
   "metadata": {},
   "outputs": [],
   "source": []
  }
 ],
 "metadata": {
  "kernelspec": {
   "display_name": "Python",
   "language": "python",
   "name": "conda-env-python-py"
  },
  "language_info": {
   "codemirror_mode": {
    "name": "ipython",
    "version": 3
   },
   "file_extension": ".py",
   "mimetype": "text/x-python",
   "name": "python",
   "nbconvert_exporter": "python",
   "pygments_lexer": "ipython3",
   "version": "3.7.12"
  }
 },
 "nbformat": 4,
 "nbformat_minor": 4
}
